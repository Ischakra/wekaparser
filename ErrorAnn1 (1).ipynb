{
 "cells": [
  {
   "cell_type": "code",
   "execution_count": null,
   "metadata": {
    "collapsed": true
   },
   "outputs": [],
   "source": [
    "#!/usr/bin/python"
   ]
  },
  {
   "cell_type": "code",
   "execution_count": null,
   "metadata": {
    "collapsed": true
   },
   "outputs": [],
   "source": [
    "import os\n",
    "import sys"
   ]
  },
  {
   "cell_type": "code",
   "execution_count": null,
   "metadata": {
    "collapsed": true
   },
   "outputs": [],
   "source": [
    "input_filename = \"v16Predictions.csv\"\n",
    "if os.path.isfile(input_filename):\n",
    "            f = open(input_filename)\n",
    "            lines = f.readlines()\n",
    "            # print (lines)\n",
    "            f.close()\n",
    "else:\n",
    "            raise Exception(\"Error : File %s not found!\" % input_filename)\n",
    "    #else:\n",
    "       # lines = sys.stdin.readlines()\n",
    "\n",
    "if not lines:\n",
    "        raise Exception(\"Error : Empty input!\")"
   ]
  },
  {
   "cell_type": "code",
   "execution_count": null,
   "metadata": {
    "collapsed": true
   },
   "outputs": [],
   "source": [
    "output_1 = \"V16Pred_etagged.csv\"\n",
    "output_2 = \"\"\n",
    "fout = open(o_filename, \"w\")"
   ]
  },
  {
   "cell_type": "code",
   "execution_count": null,
   "metadata": {
    "collapsed": true
   },
   "outputs": [],
   "source": [
    "i=0\n",
    "MediumSkip=[[]]\n",
    "MediumHigh=[[]]\n",
    "while i < len(lines):\n",
    "            line = lines[i]\n",
    "            split = [ l for l in line.split(',') if len(l) > 0 ]\n",
    "            for k in range(len( split)):\n",
    "                if \n",
    "                "
   ]
  }
 ],
 "metadata": {
  "kernelspec": {
   "display_name": "Python 3",
   "language": "python",
   "name": "python3"
  },
  "language_info": {
   "codemirror_mode": {
    "name": "ipython",
    "version": 3
   },
   "file_extension": ".py",
   "mimetype": "text/x-python",
   "name": "python",
   "nbconvert_exporter": "python",
   "pygments_lexer": "ipython3",
   "version": "3.5.1"
  }
 },
 "nbformat": 4,
 "nbformat_minor": 0
}
