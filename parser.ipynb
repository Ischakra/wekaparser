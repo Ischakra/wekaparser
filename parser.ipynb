{
 "cells": [
  {
   "cell_type": "code",
   "execution_count": 54,
   "metadata": {
    "collapsed": false
   },
   "outputs": [],
   "source": [
    "#!/usr/bin/python\n",
    "\n"
   ]
  },
  {
   "cell_type": "code",
   "execution_count": 57,
   "metadata": {
    "collapsed": true
   },
   "outputs": [],
   "source": [
    "import json\n",
    "import re\n",
    "import os\n",
    "import sys"
   ]
  },
  {
   "cell_type": "code",
   "execution_count": 58,
   "metadata": {
    "collapsed": true
   },
   "outputs": [],
   "source": [
    "re_head = re.compile(\"J48 (un)?pruned tree\")\n",
    "re_divider_line = re.compile(\"^-*\\n$\")\n",
    "re_blank_line = re.compile(\"^[ \\t\\n]*$\")\n",
    "re_splitter = re.compile(\"[ :]\")\n",
    "re_range = re.compile(\n",
    "    r\"^'\\(\"\n",
    "    r\"(-inf|-?[0-9]+(\\.[0-9]+)?)\"\n",
    "    r\"-\"\n",
    "    r\"(-?[0-9]+(\\.[0-9]+)?\\]|inf\\))\"\n",
    "    r\"'$\")\n"
   ]
  },
  {
   "cell_type": "code",
   "execution_count": 59,
   "metadata": {
    "collapsed": true
   },
   "outputs": [],
   "source": [
    "def parse_value(token):\n",
    "    \"\"\"Returns an float if the token represents a number, a range if the token\n",
    "    represents a range of numbers, otherwise return the token as is.\"\"\"\n",
    "    try:\n",
    "        return float(token)\n",
    "    except ValueError:\n",
    "        # Look for ranges of the form '(start-end]', ' included\n",
    "        if re_range.match(token):\n",
    "            range_str = token[2:-2]\n",
    "\n",
    "            # Careful not to use a minus sign as a dash.\n",
    "            separator_dash = range_str.find(\"-\", 1)\n",
    "            return (parse_value(range_str[:separator_dash]), \n",
    "                    parse_value(range_str[separator_dash+1:]))\n",
    "        else:\n",
    "            # Not a number or range - so it must be nominal, leave it as it.\n",
    "            return token\n",
    "\n"
   ]
  },
  {
   "cell_type": "code",
   "execution_count": 60,
   "metadata": {
    "collapsed": true
   },
   "outputs": [],
   "source": [
    "def parse_line(line):\n",
    "    \"\"\"Split the line into a tuple\n",
    "    (depth, feature, comparator, value, classification/None)\"\"\"\n",
    "    # Avoid empty strings from double whitespaces and the likes.\n",
    "    split = [ l for l in re_splitter.split(line) if len(l) > 0 ]\n",
    "    depth = 0\n",
    "    for part in split:\n",
    "        if part == \"|\":\n",
    "            depth += 1 \n",
    "        else:\n",
    "            break\n",
    "    return (depth, split[depth], split[depth + 1], \n",
    "            parse_value(split[depth + 2]),\n",
    "            split[depth + 3] if len(split) > depth + 3 else None)\n"
   ]
  },
  {
   "cell_type": "code",
   "execution_count": 61,
   "metadata": {
    "collapsed": true
   },
   "outputs": [],
   "source": [
    "def parse_tree(lines):\n",
    "    \"\"\"Parses input lines into a decision tree.\"\"\"\n",
    "    current_index = [0] # need mutable container because of closure limitations\n",
    "    print (lines)\n",
    "    def parse(current_depth):\n",
    "        \"\"\"Helper recursive function.\"\"\"\n",
    "        node_feature = None\n",
    "        children = []\n",
    "        while current_index[0] < len(lines):\n",
    "            line = lines[current_index[0]]\n",
    "            depth, feature, comparator, value, classif = parse_line(line)\n",
    "            if depth < current_depth:\n",
    "                # Finished parsing this node.\n",
    "                break\n",
    "            elif depth == current_depth:\n",
    "                if node_feature is None:\n",
    "                    node_feature = feature\n",
    "                elif node_feature != feature:\n",
    "                    raise Exception(\"Error : Feature mismatch - expected %s\"\n",
    "                        \"but got : \\n%s\"\n",
    "                        % (node_feature, line))\n",
    "\n",
    "                # Another branch\n",
    "                current_index[0] += 1\n",
    "                if classif is None:\n",
    "                    children.append((comparator, value, \n",
    "                                     parse(current_depth + 1)))\n",
    "                else:\n",
    "                    children.append((comparator, value, classif))\n",
    "            else:\n",
    "                raise Exception(\"Error : Input jumps two levels at once\\n%s.\"\n",
    "                                % line)\n",
    "\n",
    "        return (node_feature, children)\n",
    "\n",
    "    return parse(0)"
   ]
  },
  {
   "cell_type": "code",
   "execution_count": 63,
   "metadata": {
    "collapsed": false
   },
   "outputs": [
    {
     "name": "stdout",
     "output_type": "stream",
     "text": [
      "['outlook = sunny\\n', '|   humidity <= 75: yes (2.0)\\n', '|   humidity > 75: no (3.0)\\n', 'outlook = overcast: yes (4.0)\\n', 'outlook = rainy\\n', '|   windy = TRUE: no (2.0)\\n', '|   windy = FALSE: yes (3.0)\\n', 'outlook = custom\\n', \"|   humidity = '(-inf--1.0]': no (4.0)\\n\", \"|   humidity = '(-1.0-5.0]': yes (1.0)\\n\", \"|   humidity = '(5.0-inf)': no (2.0)\"]\n",
      "['outlook = sunny\\n', '|   humidity <= 75: yes (2.0)\\n', '|   humidity > 75: no (3.0)\\n', 'outlook = overcast: yes (4.0)\\n', 'outlook = rainy\\n', '|   windy = TRUE: no (2.0)\\n', '|   windy = FALSE: yes (3.0)\\n', 'outlook = custom\\n', \"|   humidity = '(-inf--1.0]': no (4.0)\\n\", \"|   humidity = '(-1.0-5.0]': yes (1.0)\\n\", \"|   humidity = '(5.0-inf)': no (2.0)\"]\n"
     ]
    }
   ],
   "source": [
    "#input_filename = \"J48Tree.txt\"\n",
    "input_filename = \"sample.txt\"\n",
    "if os.path.isfile(input_filename):\n",
    "            f = open(input_filename)\n",
    "            lines = f.readlines()\n",
    "            print (lines)\n",
    "            f.close()\n",
    "else:\n",
    "            raise Exception(\"Error : File %s not found!\" % input_filename)\n",
    "    #else:\n",
    "       # lines = sys.stdin.readlines()\n",
    "\n",
    "if not lines:\n",
    "        raise Exception(\"Error : Empty input!\")\n",
    "#tree_lines = get_tree_lines(lines)\n",
    "#tree = parse_tree(tree_lines)\n",
    "tree = parse_tree(lines)\n",
    "    #print json.dumps(tree)\n",
    "\n",
    "\n"
   ]
  },
  {
   "cell_type": "code",
   "execution_count": null,
   "metadata": {
    "collapsed": true
   },
   "outputs": [],
   "source": []
  },
  {
   "cell_type": "code",
   "execution_count": null,
   "metadata": {
    "collapsed": true
   },
   "outputs": [],
   "source": []
  }
 ],
 "metadata": {
  "kernelspec": {
   "display_name": "Python 3",
   "language": "python",
   "name": "python3"
  },
  "language_info": {
   "codemirror_mode": {
    "name": "ipython",
    "version": 3
   },
   "file_extension": ".py",
   "mimetype": "text/x-python",
   "name": "python",
   "nbconvert_exporter": "python",
   "pygments_lexer": "ipython3",
   "version": "3.5.1"
  }
 },
 "nbformat": 4,
 "nbformat_minor": 0
}
